{
 "cells": [
  {
   "cell_type": "code",
   "execution_count": 145,
   "id": "540c5a4f-5c6a-40c1-8345-83d5b7944b43",
   "metadata": {},
   "outputs": [],
   "source": [
    "import numpy as np\n",
    "import pandas as pd\n",
    "import re"
   ]
  },
  {
   "cell_type": "code",
   "execution_count": 146,
   "id": "9b0c9410-9e66-43a6-a867-a0e72fd8377b",
   "metadata": {},
   "outputs": [],
   "source": [
    "df_prod = pd.read_csv('Техрежим доб.CSV', delimiter=';', encoding='utf-8', low_memory=False)"
   ]
  },
  {
   "cell_type": "markdown",
   "id": "1b7d6bad-faf0-4e0b-a057-e49eda44a41e",
   "metadata": {},
   "source": [
    "### Приводим дату в конвертируемый формат во фрейме с тех.режимом добывающих скважин"
   ]
  },
  {
   "cell_type": "code",
   "execution_count": 147,
   "id": "c8552dc1-cc6c-4753-b49f-6fe6e202d4ad",
   "metadata": {},
   "outputs": [],
   "source": [
    "df_prod['Дата'] = df_prod['Дата'].str.split('.')\n",
    "df_prod['Дата'].map(lambda x: x.insert(0, '01'))\n",
    "\n",
    "def convert_month_to_digit_mode(date_as_list):\n",
    "    result = date_as_list\n",
    "    dict_of_date = {'янв': '1', 'фев': '2', 'мар': '3', 'апр': '4', 'май': '5', 'июн': '6', 'июл': '7', 'авг': '8', 'сен': '9', 'окт': '10', 'ноя': '11', 'дек': '12'}\n",
    "    result[1] = dict_of_date[result[1]]\n",
    "    result[0], result[1] = result[1], result[0]\n",
    "\n",
    "\n",
    "df_prod['Дата'].apply(convert_month_to_digit_mode)\n",
    "df_prod['Дата'] = df_prod['Дата'].map(lambda x: '/'.join(x))\n",
    "df_prod['Дата'] = df_prod['Дата'].apply(lambda x: pd.to_datetime(x))"
   ]
  },
  {
   "cell_type": "markdown",
   "id": "d22e2f11-6929-47da-8b6b-061e65dc925d",
   "metadata": {},
   "source": [
    "### Подгружаем МЭР и работаем с колонкой Дата, для приведения её к одинаковому формату с колонкой Дата в тех.режиме."
   ]
  },
  {
   "cell_type": "code",
   "execution_count": 148,
   "id": "e7166208-1cab-41a2-ae4e-d258529d4257",
   "metadata": {},
   "outputs": [],
   "source": [
    "df_mer = pd.read_csv('МЭР.CSV', delimiter=';', low_memory=False)"
   ]
  },
  {
   "cell_type": "markdown",
   "id": "b9eb6bfa-5009-4f89-961e-8999b3968884",
   "metadata": {},
   "source": [
    "### Последняя строка в МЭР итоговая по всем строкам, удалим ёё за ненадобностью"
   ]
  },
  {
   "cell_type": "code",
   "execution_count": 149,
   "id": "973a37a0-147d-4558-8f43-b1022b1dd464",
   "metadata": {},
   "outputs": [],
   "source": [
    "df_mer = df_mer.drop(index=df_mer.index[-1])"
   ]
  },
  {
   "cell_type": "code",
   "execution_count": 150,
   "id": "980dec0c-d6f7-4e88-bc28-baaa29ef3e97",
   "metadata": {},
   "outputs": [],
   "source": [
    "mer_date = df_mer['Дата'].astype(str)\n",
    "mer_date = mer_date.str.split('.')\n",
    "mer_date.map(lambda x: x.insert(0, '01'))\n",
    "\n",
    "\n",
    "def convert_month_to_digit_mer(date_as_list):\n",
    "    result = date_as_list\n",
    "    result[0], result[1] = result[1], result[0]\n",
    "\n",
    "\n",
    "mer_date.apply(convert_month_to_digit_mer)\n",
    "mer_date = mer_date.map(lambda x: '/'.join(x))\n",
    "mer_date = pd.to_datetime(mer_date, errors='coerce')\n",
    "\n",
    "df_mer.loc[:, 'Дата'] = mer_date"
   ]
  },
  {
   "cell_type": "markdown",
   "id": "d1df1db7-74ab-4538-b3b2-6941b8ca3105",
   "metadata": {},
   "source": [
    "### В МЭР жидкость дана в тоннах и накопленная за месяц в м3, в тех. режим необходимо внести данные по добыче жидкости в м3.\n",
    "### В таблице МЭР колонку Жидкость м3 необходимо привести к формату числа с плавающей точкой"
   ]
  },
  {
   "cell_type": "code",
   "execution_count": 151,
   "id": "c4fd08d6-6f80-4372-82e9-66e17ab8be2c",
   "metadata": {},
   "outputs": [],
   "source": [
    "df_mer['Жидкость, м3'] = df_mer['Жидкость, м3'].str.replace(',', '.')"
   ]
  },
  {
   "cell_type": "code",
   "execution_count": 152,
   "id": "1e31d805-7bf1-4ac5-9e23-a405fa3fff10",
   "metadata": {},
   "outputs": [],
   "source": [
    "df_mer['Жидкость, м3'] = df_mer['Жидкость, м3'].astype(float)"
   ]
  },
  {
   "cell_type": "markdown",
   "id": "c794c867-5a14-41d7-857e-61056bda46c1",
   "metadata": {},
   "source": [
    "### В тех. режиме добывающих скважин колонка со скважинами именуется, как Номер скважины, а в МЭР, как Скважина.\n",
    "### Приведем все к одному виду для возможности слияния."
   ]
  },
  {
   "cell_type": "code",
   "execution_count": 153,
   "id": "010f72c1-b57a-4750-897b-57a27c01c20a",
   "metadata": {},
   "outputs": [],
   "source": [
    "df_prod = df_prod.rename(columns={'Номер скважины': 'Скважина'})"
   ]
  },
  {
   "cell_type": "code",
   "execution_count": 154,
   "id": "5a49180b-d9b0-4ea3-9b2d-ad27294316a4",
   "metadata": {},
   "outputs": [],
   "source": [
    "df_mer_for_merge = df_mer[['Скважина', 'Дата', 'Время работы, ч', 'Qн, т/сут', 'Жидкость, м3']]"
   ]
  },
  {
   "cell_type": "markdown",
   "id": "e1b4e53e-81d0-44a0-b7e0-26306ddc6876",
   "metadata": {},
   "source": [
    "### Делаем слияние по пересекающимся значениям колонок \"Скважина\" и \"Дата\""
   ]
  },
  {
   "cell_type": "code",
   "execution_count": 155,
   "id": "74f94cc4-afae-45bd-8809-910a10ca7538",
   "metadata": {},
   "outputs": [],
   "source": [
    "df_prod = df_prod.merge(df_mer_for_merge, how='inner', on=['Скважина', 'Дата'])"
   ]
  },
  {
   "cell_type": "markdown",
   "id": "8105db68-db75-4e0b-a8b1-0348a3aaa1d1",
   "metadata": {},
   "source": [
    "### Заполняем пропущенные значения в колонках \"Qж, м3/сут\", \"Qн, т/сут\", \"Время работы, ч\""
   ]
  },
  {
   "cell_type": "code",
   "execution_count": 156,
   "id": "3f12b831-90b3-4772-9a8f-ef7d34d638a1",
   "metadata": {},
   "outputs": [],
   "source": [
    "df_prod['Время работы, ч_x'] = df_prod['Время работы, ч_x'].fillna(df_prod['Время работы, ч_y'])\n",
    "df_prod['Qн, т/сут_x'] = df_prod['Qн, т/сут_x'].fillna(df_prod['Qн, т/сут_y'])\n",
    "# df_prod['Qж, м3/сут'] = df_prod['Qж, м3/сут'].fillna(df_prod['Жидкость, м3'] / (df_prod['Время работы, ч_x'] / 24))"
   ]
  },
  {
   "cell_type": "markdown",
   "id": "84659f67-5782-43ed-8be0-14e0ae047767",
   "metadata": {},
   "source": [
    "### Приводим выходной файл тех.режима по добыче в итоговый для загрузки вид"
   ]
  },
  {
   "cell_type": "code",
   "execution_count": 157,
   "id": "d35a0f55-a0f8-46a8-9216-9496c6ea19c2",
   "metadata": {},
   "outputs": [],
   "source": [
    "list_of_columns = ['Скважина', 'Куст', 'Дата', 'Состояние на конец месяца', 'Способ эксплуатации', 'Рентабельность', 'Внутренний диаметр эксплуатационной колоны, мм', 'Пласт', 'Qн, т/сут_x', 'Qж, м3/сут',\n",
    "                   'Обводненность (объемная), %', 'Рзаб, атм', 'Pпл, атм', 'Коэф. продуктивности, м3/сут/атм', 'KH, мД м', 'Скин-фактор', 'Радиус контура питания, м', 'Динамический уровень, м', 'Буферное давление, атм',\n",
    "                   'Pлин, атм', 'Pзатр, атм', 'Давление на приеме насоса, атм', 'Статический уровень', 'Рзатр при Нстат, атм', 'Тип насоса', 'Дата изм. параметров насоса', 'Глубина спуска насоса, м',\n",
    "                   'Номинальный напор ЭЦН, м', 'Частота работы ЭЦН, Гц', 'Сила тока ЭЦН, А', 'Номинальная производительность, м3/сут', 'Тип пакера', 'Дата установки пакера', 'Глубина установки пакера, м',\n",
    "                   'Диаметр штуцера, мм', 'В-сть нефти в пластовых условиях, сПз', 'Плотность нефти (агента закачки для нагнетательных) в поверхностных условиях', 'Объемный коэффициент нефти, м3/м3',\n",
    "                   'Замеренный газовый фактор, м3/т', 'Глубина верхних дыр перфорации, м', 'Удлинение, м', 'Перфорированная мощность, м', 'Нефтенасыщенная (для добывающих) / эффективная (для нагнетательных) толщина, м',\n",
    "                   'Внешний диаметр НКТ, мм', 'Вязкость жидкости (агента закачки для нагнетательных) в поверхностных условиях, сПз', 'Добыча нефти, т', 'Добыча жидкости/закачка агента для нагнетательных, м3',\n",
    "                   'Время работы, ч_x', 'Время работы в периодическом режиме / под циклической закачкой, ч', 'Дебит нефти потенциальный (технологический), т/сут', 'Дебит жидкости потенциальный (технологический), м3/сут',\n",
    "                   'Плотность воды в пластовых условиях, г/см3', 'Qж с поправкой на диаметр эксп. колонны (технологический), м3/сут', 'Пуск', 'Остановка', 'Проницаемость', 'Тип', 'Примечание']"
   ]
  },
  {
   "cell_type": "code",
   "execution_count": 158,
   "id": "735e1fa4-8c24-4df9-b36d-1055b4874d78",
   "metadata": {},
   "outputs": [],
   "source": [
    "df_prod = df_prod[list_of_columns]\n",
    "df_prod = df_prod.rename(columns={'Скважина': 'Номер скважины','Qн, т/сут_x': 'Qн, т/сут', 'Время работы, ч_x': 'Время работы, ч'})"
   ]
  },
  {
   "cell_type": "markdown",
   "id": "0b1c2f1e-e9b3-4438-a35d-a7f84f1f0929",
   "metadata": {},
   "source": [
    "### Заполняем пропущенные значения для тех. режима нагнетательных скважин."
   ]
  },
  {
   "cell_type": "code",
   "execution_count": 159,
   "id": "74dfd527-9d24-4fc0-a93f-66758b9ad05c",
   "metadata": {},
   "outputs": [],
   "source": [
    "df_inj = pd.read_csv('Техрежим наг.CSV', delimiter=';', encoding='utf-8', low_memory=False)"
   ]
  },
  {
   "cell_type": "markdown",
   "id": "948d64f6-5e9c-45e1-9b2e-64a618563dde",
   "metadata": {},
   "source": [
    "### Приводим дату в конвертируемый формат во фрейме с тех.режимом нагнетательных скважин"
   ]
  },
  {
   "cell_type": "code",
   "execution_count": 160,
   "id": "5f3a3111-e2c7-4005-9a60-6741d0cd2bab",
   "metadata": {},
   "outputs": [],
   "source": [
    "df_inj['Дата'] = df_inj['Дата'].str.split('.')\n",
    "df_inj['Дата'].map(lambda x: x.insert(0, '01'))\n",
    "\n",
    "df_inj['Дата'].apply(convert_month_to_digit_mode)\n",
    "df_inj['Дата'] = df_inj['Дата'].map(lambda x: '/'.join(x))\n",
    "df_inj['Дата'] = df_inj['Дата'].apply(lambda x: pd.to_datetime(x))"
   ]
  },
  {
   "cell_type": "markdown",
   "id": "e067d287-fba7-4f2f-bcc2-6eb00d2f54e1",
   "metadata": {},
   "source": [
    "### Переименовываем объекты разработки"
   ]
  },
  {
   "cell_type": "code",
   "execution_count": 161,
   "id": "e57a5cdc-bf80-4377-83ca-a478a02cb8bd",
   "metadata": {},
   "outputs": [],
   "source": [
    "list_of_objects_of_field = {'АВ1/3': 'АВ1_3', 'ЮВ1/1': 'ЮВ1_1'}"
   ]
  },
  {
   "cell_type": "code",
   "execution_count": 162,
   "id": "22a75238-f9c4-48a3-8ad0-a4e7ce7e13f5",
   "metadata": {},
   "outputs": [],
   "source": [
    "df_prod['Пласт'] = df_prod['Пласт'].replace(list_of_objects_of_field)\n",
    "df_inj['Пласт'] = df_inj['Пласт'].replace(list_of_objects_of_field)"
   ]
  },
  {
   "cell_type": "code",
   "execution_count": 163,
   "id": "4b69da42-322d-48a0-9ee6-900a7bcd9da3",
   "metadata": {},
   "outputs": [],
   "source": [
    "df_prod.to_excel('Техрежим доб.xlsx', index=False)"
   ]
  },
  {
   "cell_type": "code",
   "execution_count": 164,
   "id": "90f9c94d-e534-404e-b42b-ebf5d6ad7b5f",
   "metadata": {},
   "outputs": [],
   "source": [
    "df_inj.to_excel('Техрежим наг.xlsx', index=False)"
   ]
  },
  {
   "cell_type": "code",
   "execution_count": null,
   "id": "01334103-acfb-4fd6-800e-74689c47e525",
   "metadata": {},
   "outputs": [],
   "source": []
  },
  {
   "cell_type": "code",
   "execution_count": null,
   "id": "1c87eec9-73f1-4769-8e28-ad060e2c282d",
   "metadata": {},
   "outputs": [],
   "source": []
  }
 ],
 "metadata": {
  "kernelspec": {
   "display_name": "Python 3 (ipykernel)",
   "language": "python",
   "name": "python3"
  },
  "language_info": {
   "codemirror_mode": {
    "name": "ipython",
    "version": 3
   },
   "file_extension": ".py",
   "mimetype": "text/x-python",
   "name": "python",
   "nbconvert_exporter": "python",
   "pygments_lexer": "ipython3",
   "version": "3.12.1"
  }
 },
 "nbformat": 4,
 "nbformat_minor": 5
}
