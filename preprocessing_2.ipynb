{
 "cells": [
  {
   "cell_type": "code",
   "execution_count": 1,
   "id": "540c5a4f-5c6a-40c1-8345-83d5b7944b43",
   "metadata": {},
   "outputs": [
    {
     "name": "stderr",
     "output_type": "stream",
     "text": [
      "C:\\Users\\USER\\AppData\\Local\\Temp\\ipykernel_5216\\1137696326.py:2: DeprecationWarning: \n",
      "Pyarrow will become a required dependency of pandas in the next major release of pandas (pandas 3.0),\n",
      "(to allow more performant data types, such as the Arrow string type, and better interoperability with other libraries)\n",
      "but was not found to be installed on your system.\n",
      "If this would cause problems for you,\n",
      "please provide us feedback at https://github.com/pandas-dev/pandas/issues/54466\n",
      "        \n",
      "  import pandas as pd\n"
     ]
    }
   ],
   "source": [
    "import numpy as np\n",
    "import pandas as pd\n",
    "import re"
   ]
  },
  {
   "cell_type": "code",
   "execution_count": 5,
   "id": "9b0c9410-9e66-43a6-a867-a0e72fd8377b",
   "metadata": {},
   "outputs": [],
   "source": [
    "try:\n",
    "    df_prod = pd.read_csv('Техрежим доб.CSV', delimiter=';', encoding='utf-8', low_memory=False)\n",
    "except UnicodeDecodeError:\n",
    "    df_prod = pd.read_csv('Техрежим доб.CSV', delimiter=';', encoding='ANSI', low_memory=False)\n",
    "try:\n",
    "    df_mer = pd.read_csv('МЭР.CSV', delimiter=';', encoding='utf-8', low_memory=False)\n",
    "except UnicodeDecodeError:\n",
    "    df_mer = pd.read_csv('МЭР.CSV', delimiter=';', encoding='ANSI', low_memory=False)"
   ]
  },
  {
   "cell_type": "code",
   "execution_count": 6,
   "id": "df24fa46-8838-4469-b001-4485059489e6",
   "metadata": {
    "scrolled": true
   },
   "outputs": [
    {
     "data": {
      "text/plain": [
       "((194922, 66), (963654, 24))"
      ]
     },
     "execution_count": 6,
     "metadata": {},
     "output_type": "execute_result"
    }
   ],
   "source": [
    "df_prod.shape, df_mer.shape"
   ]
  },
  {
   "cell_type": "markdown",
   "id": "1b7d6bad-faf0-4e0b-a057-e49eda44a41e",
   "metadata": {},
   "source": [
    "### Приводим дату в конвертируемый формат во фрейме с тех.режимом добывающих скважин"
   ]
  },
  {
   "cell_type": "code",
   "execution_count": 7,
   "id": "c8552dc1-cc6c-4753-b49f-6fe6e202d4ad",
   "metadata": {},
   "outputs": [],
   "source": [
    "df_prod['Дата'] = df_prod['Дата'].str.split('.')\n",
    "df_prod['Дата'].map(lambda x: x.insert(0, '01'))\n",
    "\n",
    "def convert_month_to_digit_mode(date_as_list):\n",
    "    result = date_as_list\n",
    "    dict_of_date = {'янв': '01', 'фев': '02', 'мар': '03', 'апр': '04', 'май': '05', 'июн': '06', 'июл': '07', 'авг': '08', 'сен': '09', 'окт': '10', 'ноя': '11', 'дек': '12'}\n",
    "    result[1] = dict_of_date[result[1]]\n",
    "\n",
    "\n",
    "df_prod['Дата'].apply(convert_month_to_digit_mode)\n",
    "df_prod['Дата'] = df_prod['Дата'].map(lambda x: '.'.join(x))\n",
    "# df_prod['Дата'] = df_prod['Дата'].apply(lambda x: pd.to_datetime(x))"
   ]
  },
  {
   "cell_type": "markdown",
   "id": "d22e2f11-6929-47da-8b6b-061e65dc925d",
   "metadata": {},
   "source": [
    "### Переименуем необходимые колонки, чтобы названия были одинаковы для обоих сетов"
   ]
  },
  {
   "cell_type": "code",
   "execution_count": 8,
   "id": "13c50345-7af5-41f2-a5bb-3ad120f38eb9",
   "metadata": {},
   "outputs": [],
   "source": [
    "df_mer = df_mer.rename(columns={'имя скважины': 'Скважина', 'дата(дд.мм.гггг)': 'Дата', 'время работы': 'Время работы, ч', 'состояние': 'Состояние', 'пласт': 'Пласт'})\n",
    "df_prod = df_prod.rename(columns={'Номер скважины': 'Скважина', 'Состояние на конец месяца': 'Состояние'})"
   ]
  },
  {
   "cell_type": "code",
   "execution_count": 9,
   "id": "f8cbcf62-f37e-4f8e-b238-99b7d1f38f04",
   "metadata": {},
   "outputs": [],
   "source": [
    "df_mer = df_mer.sort_values(by=['Дата'], ascending=False).reset_index(drop=True)\n",
    "df_prod = df_prod.sort_values(by=['Дата'], ascending=False).reset_index(drop=True)"
   ]
  },
  {
   "cell_type": "markdown",
   "id": "e1b4e53e-81d0-44a0-b7e0-26306ddc6876",
   "metadata": {},
   "source": [
    "### Делаем слияние по пересекающимся значениям колонок \"Скважина\" и \"Дата\""
   ]
  },
  {
   "cell_type": "code",
   "execution_count": 10,
   "id": "82c13ccd-485f-4b0a-9965-3736d892b0f5",
   "metadata": {},
   "outputs": [],
   "source": [
    "df_prod = df_prod.merge(df_mer, how='inner', left_on=['Скважина', 'Дата', 'Пласт'], right_on=['Скважина', 'Дата', 'Пласт'])"
   ]
  },
  {
   "cell_type": "markdown",
   "id": "8105db68-db75-4e0b-a8b1-0348a3aaa1d1",
   "metadata": {},
   "source": [
    "### Заполняем пропущенные значения в колонках \"Время работы, ч\""
   ]
  },
  {
   "cell_type": "code",
   "execution_count": 11,
   "id": "3f12b831-90b3-4772-9a8f-ef7d34d638a1",
   "metadata": {},
   "outputs": [],
   "source": [
    "df_prod['Время работы, ч_x'] = df_prod['Время работы, ч_x'].fillna(df_prod['Время работы, ч_y'])\n",
    "# df_prod['Qн, т/сут_x'] = df_prod['Qн, т/сут_x'].fillna(df_prod['Qн, т/сут_y'])\n",
    "# df_prod['Qж, м3/сут'] = df_prod['Qж, м3/сут'].fillna(df_prod['Жидкость, м3'] / (df_prod['Время работы, ч_x'] / 24))"
   ]
  },
  {
   "cell_type": "markdown",
   "id": "84659f67-5782-43ed-8be0-14e0ae047767",
   "metadata": {},
   "source": [
    "### Приводим выходной файл тех.режима по добыче в итоговый для загрузки вид"
   ]
  },
  {
   "cell_type": "code",
   "execution_count": 12,
   "id": "d35a0f55-a0f8-46a8-9216-9496c6ea19c2",
   "metadata": {},
   "outputs": [],
   "source": [
    "df_prod = df_prod.rename(columns={'Скважина': 'Номер скважины', 'Состояние_x': 'Состояние на конец месяца', 'Время работы, ч_x': 'Время работы, ч'})\n",
    "list_of_columns = ['Номер скважины', 'Куст', 'Дата', 'Состояние на конец месяца', 'Способ эксплуатации', 'Рентабельность', 'Внутренний диаметр эксплуатационной колоны, мм', 'Пласт', 'Qн, т/сут', 'Qж, м3/сут',\n",
    "                   'Обводненность (объемная), %', 'Рзаб, атм', 'Pпл, атм', 'Коэф. продуктивности, м3/сут/атм', 'KH, мД м', 'Скин-фактор', 'Радиус контура питания, м', 'Динамический уровень, м', 'Буферное давление, атм',\n",
    "                   'Pлин, атм', 'Pзатр, атм', 'Давление на приеме насоса, атм', 'Статический уровень', 'Рзатр при Нстат, атм', 'Тип насоса', 'Дата изм. параметров насоса', 'Глубина спуска насоса, м',\n",
    "                   'Номинальный напор ЭЦН, м', 'Частота работы ЭЦН, Гц', 'Сила тока ЭЦН, А', 'Номинальная производительность, м3/сут', 'Тип пакера', 'Дата установки пакера', 'Глубина установки пакера, м',\n",
    "                   'Диаметр штуцера, мм', 'В-сть нефти в пластовых условиях, сПз', 'Плотность нефти (агента закачки для нагнетательных) в поверхностных условиях', 'Объемный коэффициент нефти, м3/м3',\n",
    "                   'Замеренный газовый фактор, м3/т', 'Глубина верхних дыр перфорации, м', 'Удлинение, м', 'Перфорированная мощность, м', 'Нефтенасыщенная (для добывающих) / эффективная (для нагнетательных) толщина, м',\n",
    "                   'Внешний диаметр НКТ, мм', 'Вязкость жидкости (агента закачки для нагнетательных) в поверхностных условиях, сПз', 'Добыча нефти, т', 'Добыча жидкости/закачка агента для нагнетательных, м3',\n",
    "                   'Время работы, ч', 'Время работы в периодическом режиме / под циклической закачкой, ч', 'Дебит нефти потенциальный (технологический), т/сут', 'Дебит жидкости потенциальный (технологический), м3/сут',\n",
    "                   'Плотность воды в пластовых условиях, г/см3', 'Qж с поправкой на диаметр эксп. колонны (технологический), м3/сут', 'Пуск', 'Остановка', 'Проницаемость', 'Тип', 'Примечание']"
   ]
  },
  {
   "cell_type": "code",
   "execution_count": 13,
   "id": "735e1fa4-8c24-4df9-b36d-1055b4874d78",
   "metadata": {},
   "outputs": [],
   "source": [
    "df_prod = df_prod[list_of_columns]"
   ]
  },
  {
   "cell_type": "markdown",
   "id": "0b1c2f1e-e9b3-4438-a35d-a7f84f1f0929",
   "metadata": {},
   "source": [
    "### Переименовываем объекты разработки в тех.режиме по добывающим и нагнетательным скважинам"
   ]
  },
  {
   "cell_type": "code",
   "execution_count": 14,
   "id": "74dfd527-9d24-4fc0-a93f-66758b9ad05c",
   "metadata": {},
   "outputs": [],
   "source": [
    "df_inj = pd.read_csv('Техрежим наг.CSV', delimiter=';', encoding='utf-8', low_memory=False)"
   ]
  },
  {
   "cell_type": "markdown",
   "id": "948d64f6-5e9c-45e1-9b2e-64a618563dde",
   "metadata": {},
   "source": [
    "### Приводим дату в конвертируемый формат во фрейме с тех.режимом нагнетательных скважин"
   ]
  },
  {
   "cell_type": "code",
   "execution_count": 15,
   "id": "5f3a3111-e2c7-4005-9a60-6741d0cd2bab",
   "metadata": {},
   "outputs": [],
   "source": [
    "df_inj['Дата'] = df_inj['Дата'].str.split('.')\n",
    "df_inj['Дата'].map(lambda x: x.insert(0, '01'))\n",
    "\n",
    "df_inj['Дата'].apply(convert_month_to_digit_mode)\n",
    "df_inj['Дата'] = df_inj['Дата'].map(lambda x: '.'.join(x))\n",
    "# df_inj['Дата'] = df_inj['Дата'].apply(lambda x: pd.to_datetime(x))"
   ]
  },
  {
   "cell_type": "markdown",
   "id": "e067d287-fba7-4f2f-bcc2-6eb00d2f54e1",
   "metadata": {},
   "source": [
    "### Переименовываем объекты разработки"
   ]
  },
  {
   "cell_type": "code",
   "execution_count": 16,
   "id": "e57a5cdc-bf80-4377-83ca-a478a02cb8bd",
   "metadata": {},
   "outputs": [],
   "source": [
    "list_of_objects_of_field = {'АВ1/3': 'АВ1_3', 'ЮВ1/1': 'ЮВ1_1'}"
   ]
  },
  {
   "cell_type": "code",
   "execution_count": 17,
   "id": "22a75238-f9c4-48a3-8ad0-a4e7ce7e13f5",
   "metadata": {},
   "outputs": [],
   "source": [
    "df_prod['Пласт'] = df_prod['Пласт'].replace(list_of_objects_of_field)\n",
    "df_inj['Пласт'] = df_inj['Пласт'].replace(list_of_objects_of_field)"
   ]
  },
  {
   "cell_type": "code",
   "execution_count": 18,
   "id": "4b69da42-322d-48a0-9ee6-900a7bcd9da3",
   "metadata": {},
   "outputs": [],
   "source": [
    "# df_prod.to_excel('Техрежим доб.xlsx', index=False)\n",
    "# df_inj.to_excel('Техрежим наг.xlsx', index=False)"
   ]
  },
  {
   "cell_type": "code",
   "execution_count": 19,
   "id": "2a17be6f-293e-4e55-abd0-d1a153f91d5d",
   "metadata": {},
   "outputs": [],
   "source": [
    "df_prod = df_prod.drop_duplicates()\n",
    "df_inj = df_inj.drop_duplicates()"
   ]
  },
  {
   "cell_type": "code",
   "execution_count": 20,
   "id": "01334103-acfb-4fd6-800e-74689c47e525",
   "metadata": {},
   "outputs": [],
   "source": [
    "df_prod.to_csv('Техрежим доб.csv', encoding='mbcs', sep=';', index=False, decimal=',')\n",
    "df_inj.to_csv('Техрежим наг.csv', encoding='mbcs', sep=';', index=False, decimal=',')"
   ]
  },
  {
   "cell_type": "code",
   "execution_count": 21,
   "id": "bd37ac6c-d944-4ba7-9d00-3066e5811551",
   "metadata": {},
   "outputs": [
    {
     "data": {
      "text/plain": [
       "((179151, 58), (963654, 24))"
      ]
     },
     "execution_count": 21,
     "metadata": {},
     "output_type": "execute_result"
    }
   ],
   "source": [
    "df_prod.shape, df_mer.shape"
   ]
  },
  {
   "cell_type": "code",
   "execution_count": 25,
   "id": "b256300e-3a89-4de2-aaba-efb4c91225ed",
   "metadata": {},
   "outputs": [
    {
     "data": {
      "text/html": [
       "<div>\n",
       "<style scoped>\n",
       "    .dataframe tbody tr th:only-of-type {\n",
       "        vertical-align: middle;\n",
       "    }\n",
       "\n",
       "    .dataframe tbody tr th {\n",
       "        vertical-align: top;\n",
       "    }\n",
       "\n",
       "    .dataframe thead th {\n",
       "        text-align: right;\n",
       "    }\n",
       "</style>\n",
       "<table border=\"1\" class=\"dataframe\">\n",
       "  <thead>\n",
       "    <tr style=\"text-align: right;\">\n",
       "      <th></th>\n",
       "      <th>Скважина</th>\n",
       "      <th>Дата</th>\n",
       "      <th>Пласт</th>\n",
       "      <th>характер работы</th>\n",
       "      <th>Состояние</th>\n",
       "      <th>способ эксплуатации</th>\n",
       "      <th>причина простоя</th>\n",
       "      <th>Время работы, ч</th>\n",
       "      <th>время сбора</th>\n",
       "      <th>время простоя</th>\n",
       "      <th>...</th>\n",
       "      <th>конденсат</th>\n",
       "      <th>агент доб.</th>\n",
       "      <th>V нефти</th>\n",
       "      <th>V воды</th>\n",
       "      <th>V других жидк.</th>\n",
       "      <th>газ.шапка</th>\n",
       "      <th>агент зак.</th>\n",
       "      <th>закачка</th>\n",
       "      <th>техн.зак.</th>\n",
       "      <th>пот.воды</th>\n",
       "    </tr>\n",
       "  </thead>\n",
       "  <tbody>\n",
       "    <tr>\n",
       "      <th>0</th>\n",
       "      <td>SPK833Р</td>\n",
       "      <td>01.12.2023</td>\n",
       "      <td>АВ1/3</td>\n",
       "      <td>НЕФ</td>\n",
       "      <td>ЛИК</td>\n",
       "      <td>Без способа</td>\n",
       "      <td>NaN</td>\n",
       "      <td>0</td>\n",
       "      <td>0,00</td>\n",
       "      <td>0</td>\n",
       "      <td>...</td>\n",
       "      <td>0,00</td>\n",
       "      <td>-1</td>\n",
       "      <td>0,00</td>\n",
       "      <td>0,00</td>\n",
       "      <td>0,00</td>\n",
       "      <td>0,00</td>\n",
       "      <td>-1</td>\n",
       "      <td>0,00</td>\n",
       "      <td>0,00</td>\n",
       "      <td>0,00</td>\n",
       "    </tr>\n",
       "    <tr>\n",
       "      <th>1</th>\n",
       "      <td>4769</td>\n",
       "      <td>01.12.2023</td>\n",
       "      <td>АВ2</td>\n",
       "      <td>НАГ</td>\n",
       "      <td>Б/Д ТГ</td>\n",
       "      <td>NaN</td>\n",
       "      <td>NaN</td>\n",
       "      <td>0</td>\n",
       "      <td>0,00</td>\n",
       "      <td>0</td>\n",
       "      <td>...</td>\n",
       "      <td>0,00</td>\n",
       "      <td>-1</td>\n",
       "      <td>0,00</td>\n",
       "      <td>0,00</td>\n",
       "      <td>0,00</td>\n",
       "      <td>0,00</td>\n",
       "      <td>-1</td>\n",
       "      <td>0,00</td>\n",
       "      <td>0,00</td>\n",
       "      <td>0,00</td>\n",
       "    </tr>\n",
       "    <tr>\n",
       "      <th>2</th>\n",
       "      <td>130Р</td>\n",
       "      <td>01.12.2023</td>\n",
       "      <td>АВ1/3</td>\n",
       "      <td>НЕФ</td>\n",
       "      <td>ПЬЕЗ</td>\n",
       "      <td>ЭЦН</td>\n",
       "      <td>NaN</td>\n",
       "      <td>0</td>\n",
       "      <td>0,00</td>\n",
       "      <td>0</td>\n",
       "      <td>...</td>\n",
       "      <td>0,00</td>\n",
       "      <td>-1</td>\n",
       "      <td>0,00</td>\n",
       "      <td>0,00</td>\n",
       "      <td>0,00</td>\n",
       "      <td>0,00</td>\n",
       "      <td>-1</td>\n",
       "      <td>0,00</td>\n",
       "      <td>0,00</td>\n",
       "      <td>0,00</td>\n",
       "    </tr>\n",
       "    <tr>\n",
       "      <th>3</th>\n",
       "      <td>111</td>\n",
       "      <td>01.12.2023</td>\n",
       "      <td>АВ2</td>\n",
       "      <td>НЕФ</td>\n",
       "      <td>КОНС</td>\n",
       "      <td>ЭЦН</td>\n",
       "      <td>NaN</td>\n",
       "      <td>0</td>\n",
       "      <td>0,00</td>\n",
       "      <td>0</td>\n",
       "      <td>...</td>\n",
       "      <td>0,00</td>\n",
       "      <td>-1</td>\n",
       "      <td>0,00</td>\n",
       "      <td>0,00</td>\n",
       "      <td>0,00</td>\n",
       "      <td>0,00</td>\n",
       "      <td>-1</td>\n",
       "      <td>0,00</td>\n",
       "      <td>0,00</td>\n",
       "      <td>0,00</td>\n",
       "    </tr>\n",
       "    <tr>\n",
       "      <th>4</th>\n",
       "      <td>794</td>\n",
       "      <td>01.12.2023</td>\n",
       "      <td>АВ1/3</td>\n",
       "      <td>НАГ</td>\n",
       "      <td>РАБ.</td>\n",
       "      <td>NaN</td>\n",
       "      <td>NaN</td>\n",
       "      <td>744</td>\n",
       "      <td>0,00</td>\n",
       "      <td>0</td>\n",
       "      <td>...</td>\n",
       "      <td>0,00</td>\n",
       "      <td>-1</td>\n",
       "      <td>0,00</td>\n",
       "      <td>0,00</td>\n",
       "      <td>0,00</td>\n",
       "      <td>0,00</td>\n",
       "      <td>-1</td>\n",
       "      <td>0,00</td>\n",
       "      <td>0,00</td>\n",
       "      <td>0,00</td>\n",
       "    </tr>\n",
       "    <tr>\n",
       "      <th>...</th>\n",
       "      <td>...</td>\n",
       "      <td>...</td>\n",
       "      <td>...</td>\n",
       "      <td>...</td>\n",
       "      <td>...</td>\n",
       "      <td>...</td>\n",
       "      <td>...</td>\n",
       "      <td>...</td>\n",
       "      <td>...</td>\n",
       "      <td>...</td>\n",
       "      <td>...</td>\n",
       "      <td>...</td>\n",
       "      <td>...</td>\n",
       "      <td>...</td>\n",
       "      <td>...</td>\n",
       "      <td>...</td>\n",
       "      <td>...</td>\n",
       "      <td>...</td>\n",
       "      <td>...</td>\n",
       "      <td>...</td>\n",
       "      <td>...</td>\n",
       "    </tr>\n",
       "    <tr>\n",
       "      <th>963649</th>\n",
       "      <td>155Р</td>\n",
       "      <td>01.01.1967</td>\n",
       "      <td>АВ1/3</td>\n",
       "      <td>НЕФ</td>\n",
       "      <td>ОСВ ПР ЛЕТ</td>\n",
       "      <td>ФОН</td>\n",
       "      <td>NaN</td>\n",
       "      <td>0</td>\n",
       "      <td>0,00</td>\n",
       "      <td>0</td>\n",
       "      <td>...</td>\n",
       "      <td>0,00</td>\n",
       "      <td>-1</td>\n",
       "      <td>0,00</td>\n",
       "      <td>0,00</td>\n",
       "      <td>0,00</td>\n",
       "      <td>0,00</td>\n",
       "      <td>-1</td>\n",
       "      <td>0,00</td>\n",
       "      <td>0,00</td>\n",
       "      <td>0,00</td>\n",
       "    </tr>\n",
       "    <tr>\n",
       "      <th>963650</th>\n",
       "      <td>120</td>\n",
       "      <td>01.01.1967</td>\n",
       "      <td>БВ8</td>\n",
       "      <td>НЕФ</td>\n",
       "      <td>ОСВ ПР ЛЕТ</td>\n",
       "      <td>ФОН</td>\n",
       "      <td>NaN</td>\n",
       "      <td>0</td>\n",
       "      <td>0,00</td>\n",
       "      <td>0</td>\n",
       "      <td>...</td>\n",
       "      <td>0,00</td>\n",
       "      <td>-1</td>\n",
       "      <td>0,00</td>\n",
       "      <td>0,00</td>\n",
       "      <td>0,00</td>\n",
       "      <td>0,00</td>\n",
       "      <td>-1</td>\n",
       "      <td>0,00</td>\n",
       "      <td>0,00</td>\n",
       "      <td>0,00</td>\n",
       "    </tr>\n",
       "    <tr>\n",
       "      <th>963651</th>\n",
       "      <td>124Р</td>\n",
       "      <td>01.01.1967</td>\n",
       "      <td>БВ8</td>\n",
       "      <td>НЕФ</td>\n",
       "      <td>ОСВ ПР ЛЕТ</td>\n",
       "      <td>ФОН</td>\n",
       "      <td>NaN</td>\n",
       "      <td>0</td>\n",
       "      <td>0,00</td>\n",
       "      <td>0</td>\n",
       "      <td>...</td>\n",
       "      <td>0,00</td>\n",
       "      <td>-1</td>\n",
       "      <td>0,00</td>\n",
       "      <td>0,00</td>\n",
       "      <td>0,00</td>\n",
       "      <td>0,00</td>\n",
       "      <td>-1</td>\n",
       "      <td>0,00</td>\n",
       "      <td>0,00</td>\n",
       "      <td>0,00</td>\n",
       "    </tr>\n",
       "    <tr>\n",
       "      <th>963652</th>\n",
       "      <td>128Р</td>\n",
       "      <td>01.01.1966</td>\n",
       "      <td>БВ8</td>\n",
       "      <td>НЕФ</td>\n",
       "      <td>ОСВ ПР ЛЕТ</td>\n",
       "      <td>ФОН</td>\n",
       "      <td>NaN</td>\n",
       "      <td>0</td>\n",
       "      <td>0,00</td>\n",
       "      <td>0</td>\n",
       "      <td>...</td>\n",
       "      <td>0,00</td>\n",
       "      <td>-1</td>\n",
       "      <td>0,00</td>\n",
       "      <td>0,00</td>\n",
       "      <td>0,00</td>\n",
       "      <td>0,00</td>\n",
       "      <td>-1</td>\n",
       "      <td>0,00</td>\n",
       "      <td>0,00</td>\n",
       "      <td>0,00</td>\n",
       "    </tr>\n",
       "    <tr>\n",
       "      <th>963653</th>\n",
       "      <td>29Р</td>\n",
       "      <td>01.01.1966</td>\n",
       "      <td>БВ8</td>\n",
       "      <td>НЕФ</td>\n",
       "      <td>ОСВ ПР ЛЕТ</td>\n",
       "      <td>ФОН</td>\n",
       "      <td>NaN</td>\n",
       "      <td>102</td>\n",
       "      <td>0,00</td>\n",
       "      <td>0</td>\n",
       "      <td>...</td>\n",
       "      <td>0,00</td>\n",
       "      <td>-1</td>\n",
       "      <td>0,00</td>\n",
       "      <td>0,00</td>\n",
       "      <td>0,00</td>\n",
       "      <td>0,00</td>\n",
       "      <td>-1</td>\n",
       "      <td>0,00</td>\n",
       "      <td>0,00</td>\n",
       "      <td>0,00</td>\n",
       "    </tr>\n",
       "  </tbody>\n",
       "</table>\n",
       "<p>963653 rows × 24 columns</p>\n",
       "</div>"
      ],
      "text/plain": [
       "       Скважина        Дата  Пласт характер работы   Состояние  \\\n",
       "0       SPK833Р  01.12.2023  АВ1/3             НЕФ         ЛИК   \n",
       "1          4769  01.12.2023    АВ2             НАГ      Б/Д ТГ   \n",
       "2          130Р  01.12.2023  АВ1/3             НЕФ        ПЬЕЗ   \n",
       "3           111  01.12.2023    АВ2             НЕФ        КОНС   \n",
       "4           794  01.12.2023  АВ1/3             НАГ        РАБ.   \n",
       "...         ...         ...    ...             ...         ...   \n",
       "963649     155Р  01.01.1967  АВ1/3             НЕФ  ОСВ ПР ЛЕТ   \n",
       "963650      120  01.01.1967    БВ8             НЕФ  ОСВ ПР ЛЕТ   \n",
       "963651     124Р  01.01.1967    БВ8             НЕФ  ОСВ ПР ЛЕТ   \n",
       "963652     128Р  01.01.1966    БВ8             НЕФ  ОСВ ПР ЛЕТ   \n",
       "963653      29Р  01.01.1966    БВ8             НЕФ  ОСВ ПР ЛЕТ   \n",
       "\n",
       "       способ эксплуатации причина простоя  Время работы, ч время сбора  \\\n",
       "0              Без способа             NaN                0        0,00   \n",
       "1                      NaN             NaN                0        0,00   \n",
       "2                      ЭЦН             NaN                0        0,00   \n",
       "3                      ЭЦН             NaN                0        0,00   \n",
       "4                      NaN             NaN              744        0,00   \n",
       "...                    ...             ...              ...         ...   \n",
       "963649                 ФОН             NaN                0        0,00   \n",
       "963650                 ФОН             NaN                0        0,00   \n",
       "963651                 ФОН             NaN                0        0,00   \n",
       "963652                 ФОН             NaN                0        0,00   \n",
       "963653                 ФОН             NaN              102        0,00   \n",
       "\n",
       "        время простоя  ... конденсат агент доб. V нефти V воды V других жидк.  \\\n",
       "0                   0  ...      0,00         -1    0,00   0,00           0,00   \n",
       "1                   0  ...      0,00         -1    0,00   0,00           0,00   \n",
       "2                   0  ...      0,00         -1    0,00   0,00           0,00   \n",
       "3                   0  ...      0,00         -1    0,00   0,00           0,00   \n",
       "4                   0  ...      0,00         -1    0,00   0,00           0,00   \n",
       "...               ...  ...       ...        ...     ...    ...            ...   \n",
       "963649              0  ...      0,00         -1    0,00   0,00           0,00   \n",
       "963650              0  ...      0,00         -1    0,00   0,00           0,00   \n",
       "963651              0  ...      0,00         -1    0,00   0,00           0,00   \n",
       "963652              0  ...      0,00         -1    0,00   0,00           0,00   \n",
       "963653              0  ...      0,00         -1    0,00   0,00           0,00   \n",
       "\n",
       "        газ.шапка агент зак. закачка техн.зак. пот.воды  \n",
       "0            0,00         -1    0,00      0,00     0,00  \n",
       "1            0,00         -1    0,00      0,00     0,00  \n",
       "2            0,00         -1    0,00      0,00     0,00  \n",
       "3            0,00         -1    0,00      0,00     0,00  \n",
       "4            0,00         -1    0,00      0,00     0,00  \n",
       "...           ...        ...     ...       ...      ...  \n",
       "963649       0,00         -1    0,00      0,00     0,00  \n",
       "963650       0,00         -1    0,00      0,00     0,00  \n",
       "963651       0,00         -1    0,00      0,00     0,00  \n",
       "963652       0,00         -1    0,00      0,00     0,00  \n",
       "963653       0,00         -1    0,00      0,00     0,00  \n",
       "\n",
       "[963653 rows x 24 columns]"
      ]
     },
     "execution_count": 25,
     "metadata": {},
     "output_type": "execute_result"
    }
   ],
   "source": [
    "df_mer.drop_duplicates()"
   ]
  },
  {
   "cell_type": "code",
   "execution_count": null,
   "id": "62ff81e6-12f7-4fc3-a6b5-b2a61e4f6bcf",
   "metadata": {},
   "outputs": [],
   "source": []
  }
 ],
 "metadata": {
  "kernelspec": {
   "display_name": "Python 3 (ipykernel)",
   "language": "python",
   "name": "python3"
  },
  "language_info": {
   "codemirror_mode": {
    "name": "ipython",
    "version": 3
   },
   "file_extension": ".py",
   "mimetype": "text/x-python",
   "name": "python",
   "nbconvert_exporter": "python",
   "pygments_lexer": "ipython3",
   "version": "3.12.1"
  }
 },
 "nbformat": 4,
 "nbformat_minor": 5
}
